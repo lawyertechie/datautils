{
 "cells": [
  {
   "cell_type": "code",
   "execution_count": 1,
   "metadata": {},
   "outputs": [],
   "source": [
    "from pandas_datareader import data\n",
    "import matplotlib.pyplot as plt\n",
    "import pandas as pd\n",
    "import os"
   ]
  },
  {
   "cell_type": "code",
   "execution_count": 14,
   "metadata": {},
   "outputs": [],
   "source": [
    "def download_stockdata(tickers, source, start_date, end_date):\n",
    "    df_list = []\n",
    "    for ticker in tickers:\n",
    "        stock_data = data.DataReader(ticker, source , start_date, end_date)\n",
    "        stock_data['ticker'] = ticker\n",
    "        df_list.append(stock_data)\n",
    "    all_stock_data = pd.concat(df_list)\n",
    "    \n",
    "    return all_stock_data\n",
    "        "
   ]
  },
  {
   "cell_type": "code",
   "execution_count": 15,
   "metadata": {},
   "outputs": [],
   "source": [
    "tickers = ['AAPL', 'MSFT', '^GSPC']\n",
    "start_date = '2019-10-30'\n",
    "end_date = '2019-10-31'\n",
    "\n",
    "df_out = download_stockdata(tickers,'yahoo', start_date, end_date)"
   ]
  },
  {
   "cell_type": "code",
   "execution_count": 42,
   "metadata": {},
   "outputs": [],
   "source": [
    "stock_data = data.DataReader(tickers, 'yahoo', start_date, end_date).stack(level=1).reset_index()"
   ]
  }
 ],
 "metadata": {
  "kernelspec": {
   "display_name": "Python 3",
   "language": "python",
   "name": "python3"
  },
  "language_info": {
   "codemirror_mode": {
    "name": "ipython",
    "version": 3
   },
   "file_extension": ".py",
   "mimetype": "text/x-python",
   "name": "python",
   "nbconvert_exporter": "python",
   "pygments_lexer": "ipython3",
   "version": "3.7.1"
  }
 },
 "nbformat": 4,
 "nbformat_minor": 2
}
